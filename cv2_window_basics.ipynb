{
 "cells": [
  {
   "cell_type": "markdown",
   "metadata": {},
   "source": [
    "# Image Basics with OpenCV Windows"
   ]
  },
  {
   "cell_type": "markdown",
   "metadata": {},
   "source": [
    "### Step 1) Drawing circles "
   ]
  },
  {
   "cell_type": "code",
   "execution_count": null,
   "metadata": {},
   "outputs": [],
   "source": [
    "import cv2\n",
    "import numpy as np\n",
    "\n",
    "\n",
    "##############\n",
    "## FUNCTION ##\n",
    "##############\n",
    "\n",
    "def draw_circle(event, x, y, flags, param):\n",
    "    \n",
    "    if event == cv2.EVENT_LBUTTONDOWN:\n",
    "        cv2.circle(img, center = (x,y), radius = 50, \n",
    "                   color = (0,255,0), thickness = -1)\n",
    "\n",
    "    elif event == cv2.EVENT_RBUTTONDOWN:\n",
    "        cv2.circle(img, center = (x,y), radius = 50, \n",
    "                   color = (255,0,0), thickness = -1)\n",
    "        \n",
    "    \n",
    "cv2.namedWindow(winname = 'my_drawing')\n",
    "cv2.setMouseCallback('my_drawing', draw_circle)\n",
    "\n",
    "\n",
    "###############################\n",
    "## SHOWING IMAGE WITH OPENCV ##\n",
    "###############################\n",
    "\n",
    "img = np.zeros((512,512,3), np.uint8)\n",
    "\n",
    "while True: \n",
    "\n",
    "    cv2.imshow('my_drawing',img)\n",
    "    \n",
    "    if cv2.waitKey(10) & 0xFF == 27:\n",
    "        break\n",
    "\n",
    "cv2.destroyAllWindows()\n"
   ]
  },
  {
   "cell_type": "code",
   "execution_count": null,
   "metadata": {},
   "outputs": [],
   "source": []
  },
  {
   "cell_type": "markdown",
   "metadata": {},
   "source": [
    "### Step 2) Drawing Rectagles"
   ]
  },
  {
   "cell_type": "code",
   "execution_count": 3,
   "metadata": {},
   "outputs": [],
   "source": [
    "import cv2\n",
    "import numpy as np\n",
    "\n",
    "\n",
    "##############\n",
    "## FUNCTION ##\n",
    "##############\n",
    "\n",
    "# Initialization\n",
    "drawing = False\n",
    "ix = -1\n",
    "iy = -1\n",
    "\n",
    "# create a drawing function\n",
    "def draw_rectangle(event, x, y, flags, params):\n",
    "    \n",
    "    global ix, iy, drawing\n",
    "    \n",
    "    if event == cv2.EVENT_LBUTTONDOWN:\n",
    "        drawing = True\n",
    "        ix, iy = x, y\n",
    "        \n",
    "    elif event == cv2.EVENT_MOUSEMOVE:\n",
    "        if drawing == True:\n",
    "            cv2.rectangle(img, pt1=(ix, iy), pt2=(x, y), \n",
    "                          color = (0, 255, 0), thickness = -1)\n",
    "            \n",
    "    elif event == cv2.EVENT_LBUTTONUP:\n",
    "        drawing = False\n",
    "        cv2.rectangle(img, pt1=(ix, iy), pt2=(x, y), \n",
    "                     color = (0, 255, 0), thickness = -1)\n",
    "\n",
    "###############################\n",
    "## SHOWING IMAGE WITH OPENCV ##\n",
    "###############################\n",
    "\n",
    "# EMPTY BLACK_IMG\n",
    "img = np.zeros((512, 512, 3))\n",
    "\n",
    "cv2.namedWindow(winname = 'my_drawing')\n",
    "cv2.setMouseCallback('my_drawing', draw_rectangle)\n",
    "\n",
    "\n",
    "# EXECUTE \n",
    "while True: \n",
    "\n",
    "    cv2.imshow('my_drawing',img)\n",
    "    if cv2.waitKey(10) & 0xFF == 27:\n",
    "        break\n",
    "\n",
    "cv2.destroyAllWindows()\n"
   ]
  },
  {
   "cell_type": "code",
   "execution_count": null,
   "metadata": {},
   "outputs": [],
   "source": []
  },
  {
   "cell_type": "markdown",
   "metadata": {},
   "source": [
    "## Step 3) "
   ]
  },
  {
   "cell_type": "code",
   "execution_count": null,
   "metadata": {},
   "outputs": [],
   "source": []
  },
  {
   "cell_type": "code",
   "execution_count": null,
   "metadata": {},
   "outputs": [],
   "source": []
  },
  {
   "cell_type": "code",
   "execution_count": null,
   "metadata": {},
   "outputs": [],
   "source": []
  },
  {
   "cell_type": "code",
   "execution_count": null,
   "metadata": {},
   "outputs": [],
   "source": []
  },
  {
   "cell_type": "code",
   "execution_count": null,
   "metadata": {},
   "outputs": [],
   "source": []
  },
  {
   "cell_type": "code",
   "execution_count": null,
   "metadata": {},
   "outputs": [],
   "source": []
  }
 ],
 "metadata": {
  "kernelspec": {
   "display_name": "Python 3",
   "language": "python",
   "name": "python3"
  },
  "language_info": {
   "codemirror_mode": {
    "name": "ipython",
    "version": 3
   },
   "file_extension": ".py",
   "mimetype": "text/x-python",
   "name": "python",
   "nbconvert_exporter": "python",
   "pygments_lexer": "ipython3",
   "version": "3.6.6"
  }
 },
 "nbformat": 4,
 "nbformat_minor": 2
}
