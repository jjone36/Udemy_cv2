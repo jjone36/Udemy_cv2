{
 "cells": [
  {
   "cell_type": "markdown",
   "metadata": {},
   "source": [
    "# Image Basics with OpenCV Windows"
   ]
  },
  {
   "cell_type": "markdown",
   "metadata": {},
   "source": [
    "### Step 1) Drawing circles "
   ]
  },
  {
   "cell_type": "code",
   "execution_count": null,
   "metadata": {},
   "outputs": [],
   "source": [
    "import cv2\n",
    "import numpy as np\n",
    "\n",
    "\n",
    "##############\n",
    "## FUNCTION ##\n",
    "##############\n",
    "\n",
    "def draw_circle(event, x, y, flags, param):\n",
    "    \n",
    "    if event == cv2.EVENT_LBUTTONDOWN:\n",
    "        cv2.circle(img, center = (x,y), radius = 50, \n",
    "                   color = (0,255,0), thickness = -1)\n",
    "\n",
    "    elif event == cv2.EVENT_RBUTTONDOWN:\n",
    "        cv2.circle(img, center = (x,y), radius = 50, \n",
    "                   color = (255,0,0), thickness = -1)\n",
    "        \n",
    "    \n",
    "cv2.namedWindow(winname = 'my_drawing')\n",
    "cv2.setMouseCallback('my_drawing', draw_circle)\n",
    "\n",
    "\n",
    "###############################\n",
    "## SHOWING IMAGE WITH OPENCV ##\n",
    "###############################\n",
    "\n",
    "img = np.zeros((512,512,3), np.uint8)\n",
    "\n",
    "while True: \n",
    "\n",
    "    cv2.imshow('my_drawing',img)\n",
    "    \n",
    "    if cv2.waitKey(10) & 0xFF == 27:\n",
    "        break\n",
    "\n",
    "cv2.destroyAllWindows()"
   ]
  },
  {
   "cell_type": "code",
   "execution_count": null,
   "metadata": {},
   "outputs": [],
   "source": []
  },
  {
   "cell_type": "markdown",
   "metadata": {},
   "source": [
    "### Step 2) Drawing Rectagles"
   ]
  },
  {
   "cell_type": "code",
   "execution_count": 3,
   "metadata": {},
   "outputs": [],
   "source": [
    "import cv2\n",
    "import numpy as np\n",
    "\n",
    "\n",
    "##############\n",
    "## FUNCTION ##\n",
    "##############\n",
    "\n",
    "# Initialization\n",
    "drawing = False\n",
    "ix = -1\n",
    "iy = -1\n",
    "\n",
    "# create a drawing function\n",
    "def draw_rectangle(event, x, y, flags, params):\n",
    "    \n",
    "    global ix, iy, drawing\n",
    "    \n",
    "    if event == cv2.EVENT_LBUTTONDOWN:\n",
    "        drawing = True\n",
    "        ix, iy = x, y\n",
    "        \n",
    "    elif event == cv2.EVENT_MOUSEMOVE:\n",
    "        if drawing == True:\n",
    "            cv2.rectangle(img, pt1=(ix, iy), pt2=(x, y), \n",
    "                          color = (0, 255, 0), thickness = -1)\n",
    "            \n",
    "    elif event == cv2.EVENT_LBUTTONUP:\n",
    "        drawing = False\n",
    "        cv2.rectangle(img, pt1=(ix, iy), pt2=(x, y), \n",
    "                     color = (0, 255, 0), thickness = -1)\n",
    "\n",
    "###############################\n",
    "## SHOWING IMAGE WITH OPENCV ##\n",
    "###############################\n",
    "\n",
    "# EMPTY BLACK_IMG\n",
    "img = np.zeros((512, 512, 3))\n",
    "\n",
    "cv2.namedWindow(winname = 'my_drawing')\n",
    "cv2.setMouseCallback('my_drawing', draw_rectangle)\n",
    "\n",
    "\n",
    "# EXECUTE \n",
    "while True: \n",
    "\n",
    "    cv2.imshow('my_drawing',img)\n",
    "    if cv2.waitKey(10) & 0xFF == 27:\n",
    "        break\n",
    "\n",
    "cv2.destroyAllWindows()"
   ]
  },
  {
   "cell_type": "code",
   "execution_count": null,
   "metadata": {},
   "outputs": [],
   "source": []
  },
  {
   "cell_type": "markdown",
   "metadata": {},
   "source": [
    "## Step 3) Video Cam"
   ]
  },
  {
   "cell_type": "markdown",
   "metadata": {},
   "source": [
    "Video Cam Window"
   ]
  },
  {
   "cell_type": "code",
   "execution_count": null,
   "metadata": {},
   "outputs": [],
   "source": [
    "import cv2\n",
    "\n",
    "cap = cv2.VideoCapture(0)\n",
    "\n",
    "width = int(cap.get(cv2.CAP_PROP_FRAME_WIDTH)) \n",
    "height = int(cap.get(cv2.CAP_PROP_FRAME_HEIGHT)) \n",
    "\n",
    "while True:\n",
    "    \n",
    "    ret, frame = cap.read()\n",
    "    \n",
    "    # gray = cv2.cvtColor(frame, cv2.COLOR_BGR2GRAY)\n",
    "    \n",
    "    cv2.imshow('frame', frame)\n",
    "    \n",
    "    if cv2.waitKey(1) & 0xFF == ord('q'):\n",
    "        break\n",
    "        \n",
    "cap.release()\n",
    "cv2.destroyAllWindows()"
   ]
  },
  {
   "cell_type": "markdown",
   "metadata": {},
   "source": [
    "Video Recording"
   ]
  },
  {
   "cell_type": "code",
   "execution_count": null,
   "metadata": {},
   "outputs": [],
   "source": [
    "import cv2\n",
    "\n",
    "cap = cv2.VideoCapture(0)\n",
    "\n",
    "width = int(cap.get(cv2.CAP_PROP_FRAME_WIDTH)) \n",
    "height = int(cap.get(cv2.CAP_PROP_FRAME_HEIGHT)) \n",
    "\n",
    "writer = cv2.VideoWriter('mysupervideo.mp4', cv2.VideoWriter_fourcc(*'DIVX'), 20, (width, height))\n",
    "\n",
    "while True:\n",
    "    \n",
    "    ret, frame = cap.read()\n",
    "    \n",
    "    # OPERATIONS (DRAWING)\n",
    "    writer.write(frame)\n",
    "    \n",
    "    # gray = cv2.cvtColor(frame, cv2.COLOR_BGR2GRAY)\n",
    "    \n",
    "    cv2.imshow('frame', frame)\n",
    "    \n",
    "    if cv2.waitKey(1) & 0xFF == ord('q'):\n",
    "        break\n",
    "        \n",
    "cap.release()\n",
    "writer.release()\n",
    "cv2.destroyAllWindows()"
   ]
  },
  {
   "cell_type": "markdown",
   "metadata": {},
   "source": [
    "Playing the video "
   ]
  },
  {
   "cell_type": "code",
   "execution_count": null,
   "metadata": {},
   "outputs": [],
   "source": [
    "import cv2 \n",
    "import time \n",
    "\n",
    "cap = cv2.VideoCapture('data/video_capture.mp4')\n",
    "\n",
    "if cap.isOpened() == False:\n",
    "    print('ERROR FILE NOT FOUND OR WRONG CODEC USED!')\n",
    "    \n",
    "while cap.isOpened():\n",
    "    \n",
    "    ret, frame = cap.read()\n",
    "    if ret == True:\n",
    "    \n",
    "        # WRITER 20 FPS \n",
    "        time.sleep(1/20)\n",
    "        cv2.imshow('frame', frame)\n",
    "        \n",
    "        if cv2.waitKey(10) & 0xFF == ord('q'):\n",
    "            break\n",
    "    else:\n",
    "        break \n",
    "        \n",
    "cap.release()\n",
    "cv2.destroyAllWindows()"
   ]
  },
  {
   "cell_type": "code",
   "execution_count": null,
   "metadata": {},
   "outputs": [],
   "source": []
  },
  {
   "cell_type": "markdown",
   "metadata": {},
   "source": [
    "# Step 4) Drawing Rectangles on Video"
   ]
  },
  {
   "cell_type": "markdown",
   "metadata": {},
   "source": [
    "Static rectangles"
   ]
  },
  {
   "cell_type": "code",
   "execution_count": null,
   "metadata": {},
   "outputs": [],
   "source": [
    "import cv2 \n",
    "\n",
    "cap = cv2.VideoCapture(0)\n",
    "\n",
    "width = int(cap.get(cv2.CAP_PROP_FRAME_WIDTH))\n",
    "height = int(cap.get(cv2.CAP_PROP_FRAME_HEIGHT))\n",
    "\n",
    "# TOP LEFT CORNER\n",
    "x = width // 2\n",
    "y = height // 2\n",
    "\n",
    "# WIDTH AND HEIGHT OF RECTANGLE\n",
    "w = width // 4\n",
    "h = height // 4  \n",
    "\n",
    "# BOTTOM RIGHT x+w, y+h\n",
    "\n",
    "while True:\n",
    "    \n",
    "    ret, frame = cap.read()\n",
    "    \n",
    "    cv2.rectangle(frame, pt1 = (x, y), pt2 = (x+w, y+h), \n",
    "                  color = (0, 0, 255), thickness = 4)\n",
    "    \n",
    "    cv2.imshow('frame', frame)\n",
    "    \n",
    "    if cv2.waitKey(1) & 0xFF == ord('q'):\n",
    "        break\n",
    "        \n",
    "cap.release()\n",
    "cv2.destroyAllWindows()"
   ]
  },
  {
   "cell_type": "markdown",
   "metadata": {},
   "source": [
    "Callback Drawing-rectangles"
   ]
  },
  {
   "cell_type": "code",
   "execution_count": null,
   "metadata": {},
   "outputs": [],
   "source": [
    "import cv2 \n",
    "\n",
    "cap = cv2.VideoCapture(0)\n",
    "cv2.namedWindow('Test')\n",
    "\n",
    "## GLOBAL VARIABLES \n",
    "pt1 = (0, 0)\n",
    "pt2 = (0, 0)\n",
    "topLeft_clicked = False\n",
    "botRight_clicked = False \n",
    "\n",
    "\n",
    "## CALLBACK FUNCTION RECTANGLE\n",
    "def draw_rectangle(event, x, y, flags, param):\n",
    "    \n",
    "    global pt1, pt2, topLeft_clicked, botRight_clicked\n",
    "    \n",
    "    if event == cv2.EVENT_LBUTTONDOWN:\n",
    "        \n",
    "        # RESET THE RECTANGLE\n",
    "        if topLeft_clicked == True and botRight_clicked == True:\n",
    "            pt1 = (0, 0) \n",
    "            pt2 = (0, 0) \n",
    "            topLeft_clicked = False \n",
    "            botRight_clicked = False \n",
    "            \n",
    "        if topLeft_clicked == False:\n",
    "            pt1 = (x, y)\n",
    "            topLeft_clicked = True\n",
    "            \n",
    "        elif botRight_clicked == False:\n",
    "            pt2 = (x, y)\n",
    "            botRight_clicked = True \n",
    "\n",
    "\n",
    "## CONNECT TO THE CALLBACK  \n",
    "cv2.setMouseCallback('Test', draw_rectangle)\n",
    "\n",
    "\n",
    "while True:\n",
    "    \n",
    "    ret, frame = cap.read()\n",
    "    \n",
    "    # DRAWING ON THE FRAME BASED OFF THE GLOBAL VARIABLES\n",
    "    if topLeft_clicked:\n",
    "        cv2.circle(frame, center = pt1, radius = 5, color = (0, 0, 255), thickness = -1)\n",
    "        \n",
    "    if topLeft_clicked and botRight_clicked:\n",
    "        cv2.rectangle(frame, pt1, pt2, color = (0, 0, 255), thickness = 3)\n",
    "    \n",
    "    \n",
    "    cv2.imshow('Test', frame)\n",
    "    \n",
    "    if cv2.waitKey(1) & 0xFF == ord('q'):\n",
    "        break\n",
    "        \n",
    "cap.release()\n",
    "cv2.destroyAllWindows()"
   ]
  },
  {
   "cell_type": "markdown",
   "metadata": {},
   "source": [
    "Callback Drawing-Circle"
   ]
  },
  {
   "cell_type": "code",
   "execution_count": null,
   "metadata": {},
   "outputs": [],
   "source": [
    "# Create a function based on a CV2 Event (Left button click)\n",
    "import cv2\n",
    "\n",
    "# Capture Video\n",
    "cap = cv2.VideoCapture(0)\n",
    "\n",
    "# Create a named window for connections\n",
    "cv2.namedWindow('myWindow')\n",
    "        \n",
    "# Haven't drawn anything yet!\n",
    "center = (0,0)\n",
    "clicked = False\n",
    "\n",
    "# mouse callback function\n",
    "def draw_circle(event,x,y,flags,param):\n",
    "\n",
    "    global center,clicked\n",
    "\n",
    "    # get mouse click on down and track center\n",
    "    if event == cv2.EVENT_LBUTTONDOWN:\n",
    "        center = (x, y)\n",
    "        clicked = False\n",
    "    \n",
    "    # Use boolean variable to track if the mouse has been released\n",
    "    if event == cv2.EVENT_LBUTTONUP:\n",
    "        clicked = True\n",
    "\n",
    "\n",
    "# Bind draw_rectangle function to mouse cliks\n",
    "cv2.setMouseCallback('myWindow', draw_circle)\n",
    "\n",
    "\n",
    "while True:\n",
    "    # Capture frame-by-frame\n",
    "    ret, frame = cap.read()\n",
    " \n",
    "    # Use if statement to see if clicked is true\n",
    "    if clicked:\n",
    "        # Draw circle on frame\n",
    "        cv2.circle(frame, center = center, radius = 50, color = (255, 0, 0), thickness = 1)\n",
    "        \n",
    "    # Display the resulting frame\n",
    "    cv2.imshow('myWindow', frame)\n",
    "\n",
    "    # This command let's us quit with the \"q\" button on a keyboard.\n",
    "    # Simply pressing X on the window won't work!\n",
    "    if cv2.waitKey(1) & 0xFF == ord('q'):\n",
    "        break\n",
    "\n",
    "# When everything is done, release the capture\n",
    "cap.release()\n",
    "cv2.destroyAllWindows()"
   ]
  },
  {
   "cell_type": "code",
   "execution_count": null,
   "metadata": {},
   "outputs": [],
   "source": []
  },
  {
   "cell_type": "markdown",
   "metadata": {},
   "source": [
    "# Step 5)"
   ]
  },
  {
   "cell_type": "code",
   "execution_count": null,
   "metadata": {},
   "outputs": [],
   "source": []
  },
  {
   "cell_type": "code",
   "execution_count": null,
   "metadata": {},
   "outputs": [],
   "source": []
  },
  {
   "cell_type": "code",
   "execution_count": null,
   "metadata": {},
   "outputs": [],
   "source": []
  },
  {
   "cell_type": "code",
   "execution_count": null,
   "metadata": {},
   "outputs": [],
   "source": []
  },
  {
   "cell_type": "code",
   "execution_count": null,
   "metadata": {},
   "outputs": [],
   "source": []
  },
  {
   "cell_type": "code",
   "execution_count": null,
   "metadata": {},
   "outputs": [],
   "source": []
  }
 ],
 "metadata": {
  "kernelspec": {
   "display_name": "Python 3",
   "language": "python",
   "name": "python3"
  },
  "language_info": {
   "codemirror_mode": {
    "name": "ipython",
    "version": 3
   },
   "file_extension": ".py",
   "mimetype": "text/x-python",
   "name": "python",
   "nbconvert_exporter": "python",
   "pygments_lexer": "ipython3",
   "version": "3.6.6"
  }
 },
 "nbformat": 4,
 "nbformat_minor": 2
}
